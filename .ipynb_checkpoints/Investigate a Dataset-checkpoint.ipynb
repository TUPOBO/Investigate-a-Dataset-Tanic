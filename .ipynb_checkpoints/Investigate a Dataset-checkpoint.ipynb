{
 "cells": [
  {
   "cell_type": "markdown",
   "metadata": {},
   "source": [
    "# Investigate a Dataset\n",
    "\n",
    "### 项目要求\n",
    "对[泰坦尼克号数据](https://github.com/ShiChJ/DAND-Basic-Materials/blob/master/P2/Project_Files/titanic-data.csv)进行数据分析，创建并分享数据分析文档。利用`Pandas`和`NumPy`操作数据，进行数据可视化分析，最终回答你感兴趣的问题\n",
    "\n",
    "### 数据集加载及处理"
   ]
  },
  {
   "cell_type": "code",
   "execution_count": 125,
   "metadata": {},
   "outputs": [],
   "source": [
    "import numpy as np\n",
    "import pandas as pd\n",
    "from pandas import DataFrame\n",
    "import matplotlib.pyplot as plt\n",
    "import seaborn as sns\n",
    "\n",
    "sns.set(style=\"whitegrid\", color_codes=True)\n",
    "data = pd.read_csv('titanic-data.csv')\n"
   ]
  },
  {
   "cell_type": "code",
   "execution_count": 126,
   "metadata": {},
   "outputs": [
    {
     "data": {
      "text/plain": [
       "(891, 12)"
      ]
     },
     "execution_count": 126,
     "metadata": {},
     "output_type": "execute_result"
    }
   ],
   "source": [
    "# 数据规模\n",
    "data.shape\n"
   ]
  },
  {
   "cell_type": "markdown",
   "metadata": {},
   "source": [
    "该数据集含有12个参数和891条信息"
   ]
  },
  {
   "cell_type": "code",
   "execution_count": 127,
   "metadata": {},
   "outputs": [
    {
     "data": {
      "text/html": [
       "<div>\n",
       "<style scoped>\n",
       "    .dataframe tbody tr th:only-of-type {\n",
       "        vertical-align: middle;\n",
       "    }\n",
       "\n",
       "    .dataframe tbody tr th {\n",
       "        vertical-align: top;\n",
       "    }\n",
       "\n",
       "    .dataframe thead th {\n",
       "        text-align: right;\n",
       "    }\n",
       "</style>\n",
       "<table border=\"1\" class=\"dataframe\">\n",
       "  <thead>\n",
       "    <tr style=\"text-align: right;\">\n",
       "      <th></th>\n",
       "      <th>PassengerId</th>\n",
       "      <th>Survived</th>\n",
       "      <th>Pclass</th>\n",
       "      <th>Name</th>\n",
       "      <th>Sex</th>\n",
       "      <th>Age</th>\n",
       "      <th>SibSp</th>\n",
       "      <th>Parch</th>\n",
       "      <th>Ticket</th>\n",
       "      <th>Fare</th>\n",
       "      <th>Cabin</th>\n",
       "      <th>Embarked</th>\n",
       "    </tr>\n",
       "  </thead>\n",
       "  <tbody>\n",
       "    <tr>\n",
       "      <th>0</th>\n",
       "      <td>1</td>\n",
       "      <td>0</td>\n",
       "      <td>3</td>\n",
       "      <td>Braund, Mr. Owen Harris</td>\n",
       "      <td>male</td>\n",
       "      <td>22.0</td>\n",
       "      <td>1</td>\n",
       "      <td>0</td>\n",
       "      <td>A/5 21171</td>\n",
       "      <td>7.2500</td>\n",
       "      <td>NaN</td>\n",
       "      <td>S</td>\n",
       "    </tr>\n",
       "    <tr>\n",
       "      <th>1</th>\n",
       "      <td>2</td>\n",
       "      <td>1</td>\n",
       "      <td>1</td>\n",
       "      <td>Cumings, Mrs. John Bradley (Florence Briggs Th...</td>\n",
       "      <td>female</td>\n",
       "      <td>38.0</td>\n",
       "      <td>1</td>\n",
       "      <td>0</td>\n",
       "      <td>PC 17599</td>\n",
       "      <td>71.2833</td>\n",
       "      <td>C85</td>\n",
       "      <td>C</td>\n",
       "    </tr>\n",
       "    <tr>\n",
       "      <th>2</th>\n",
       "      <td>3</td>\n",
       "      <td>1</td>\n",
       "      <td>3</td>\n",
       "      <td>Heikkinen, Miss. Laina</td>\n",
       "      <td>female</td>\n",
       "      <td>26.0</td>\n",
       "      <td>0</td>\n",
       "      <td>0</td>\n",
       "      <td>STON/O2. 3101282</td>\n",
       "      <td>7.9250</td>\n",
       "      <td>NaN</td>\n",
       "      <td>S</td>\n",
       "    </tr>\n",
       "    <tr>\n",
       "      <th>3</th>\n",
       "      <td>4</td>\n",
       "      <td>1</td>\n",
       "      <td>1</td>\n",
       "      <td>Futrelle, Mrs. Jacques Heath (Lily May Peel)</td>\n",
       "      <td>female</td>\n",
       "      <td>35.0</td>\n",
       "      <td>1</td>\n",
       "      <td>0</td>\n",
       "      <td>113803</td>\n",
       "      <td>53.1000</td>\n",
       "      <td>C123</td>\n",
       "      <td>S</td>\n",
       "    </tr>\n",
       "    <tr>\n",
       "      <th>4</th>\n",
       "      <td>5</td>\n",
       "      <td>0</td>\n",
       "      <td>3</td>\n",
       "      <td>Allen, Mr. William Henry</td>\n",
       "      <td>male</td>\n",
       "      <td>35.0</td>\n",
       "      <td>0</td>\n",
       "      <td>0</td>\n",
       "      <td>373450</td>\n",
       "      <td>8.0500</td>\n",
       "      <td>NaN</td>\n",
       "      <td>S</td>\n",
       "    </tr>\n",
       "  </tbody>\n",
       "</table>\n",
       "</div>"
      ],
      "text/plain": [
       "   PassengerId  \\\n",
       "0            1   \n",
       "1            2   \n",
       "2            3   \n",
       "3            4   \n",
       "4            5   \n",
       "\n",
       "   Survived  \\\n",
       "0         0   \n",
       "1         1   \n",
       "2         1   \n",
       "3         1   \n",
       "4         0   \n",
       "\n",
       "   Pclass  \\\n",
       "0       3   \n",
       "1       1   \n",
       "2       3   \n",
       "3       1   \n",
       "4       3   \n",
       "\n",
       "                                                Name  \\\n",
       "0                            Braund, Mr. Owen Harris   \n",
       "1  Cumings, Mrs. John Bradley (Florence Briggs Th...   \n",
       "2                             Heikkinen, Miss. Laina   \n",
       "3       Futrelle, Mrs. Jacques Heath (Lily May Peel)   \n",
       "4                           Allen, Mr. William Henry   \n",
       "\n",
       "      Sex   Age  \\\n",
       "0    male  22.0   \n",
       "1  female  38.0   \n",
       "2  female  26.0   \n",
       "3  female  35.0   \n",
       "4    male  35.0   \n",
       "\n",
       "   SibSp  Parch  \\\n",
       "0      1      0   \n",
       "1      1      0   \n",
       "2      0      0   \n",
       "3      1      0   \n",
       "4      0      0   \n",
       "\n",
       "             Ticket  \\\n",
       "0         A/5 21171   \n",
       "1          PC 17599   \n",
       "2  STON/O2. 3101282   \n",
       "3            113803   \n",
       "4            373450   \n",
       "\n",
       "      Fare Cabin  \\\n",
       "0   7.2500   NaN   \n",
       "1  71.2833   C85   \n",
       "2   7.9250   NaN   \n",
       "3  53.1000  C123   \n",
       "4   8.0500   NaN   \n",
       "\n",
       "  Embarked  \n",
       "0        S  \n",
       "1        C  \n",
       "2        S  \n",
       "3        S  \n",
       "4        S  "
      ]
     },
     "execution_count": 127,
     "metadata": {},
     "output_type": "execute_result"
    }
   ],
   "source": [
    "# 查看数据集前五行的具体信息\n",
    "data.head()\n"
   ]
  },
  {
   "cell_type": "markdown",
   "metadata": {},
   "source": [
    "在`Cabin`这一列出现了`NaN`，需要进行缺省值处理，同时我们可以忽略一些信息：`Name`,`\n",
    "PassengerId`,`Ticket`,`Embarked`"
   ]
  },
  {
   "cell_type": "code",
   "execution_count": 128,
   "metadata": {},
   "outputs": [
    {
     "data": {
      "text/html": [
       "<div>\n",
       "<style scoped>\n",
       "    .dataframe tbody tr th:only-of-type {\n",
       "        vertical-align: middle;\n",
       "    }\n",
       "\n",
       "    .dataframe tbody tr th {\n",
       "        vertical-align: top;\n",
       "    }\n",
       "\n",
       "    .dataframe thead th {\n",
       "        text-align: right;\n",
       "    }\n",
       "</style>\n",
       "<table border=\"1\" class=\"dataframe\">\n",
       "  <thead>\n",
       "    <tr style=\"text-align: right;\">\n",
       "      <th></th>\n",
       "      <th>Survived</th>\n",
       "      <th>Pclass</th>\n",
       "      <th>Age</th>\n",
       "      <th>SibSp</th>\n",
       "      <th>Parch</th>\n",
       "      <th>Fare</th>\n",
       "    </tr>\n",
       "  </thead>\n",
       "  <tbody>\n",
       "    <tr>\n",
       "      <th>count</th>\n",
       "      <td>714.000000</td>\n",
       "      <td>714.000000</td>\n",
       "      <td>714.000000</td>\n",
       "      <td>714.000000</td>\n",
       "      <td>714.000000</td>\n",
       "      <td>714.000000</td>\n",
       "    </tr>\n",
       "    <tr>\n",
       "      <th>mean</th>\n",
       "      <td>0.406162</td>\n",
       "      <td>2.236695</td>\n",
       "      <td>29.699118</td>\n",
       "      <td>0.512605</td>\n",
       "      <td>0.431373</td>\n",
       "      <td>34.694514</td>\n",
       "    </tr>\n",
       "    <tr>\n",
       "      <th>std</th>\n",
       "      <td>0.491460</td>\n",
       "      <td>0.838250</td>\n",
       "      <td>14.526497</td>\n",
       "      <td>0.929783</td>\n",
       "      <td>0.853289</td>\n",
       "      <td>52.918930</td>\n",
       "    </tr>\n",
       "    <tr>\n",
       "      <th>min</th>\n",
       "      <td>0.000000</td>\n",
       "      <td>1.000000</td>\n",
       "      <td>0.420000</td>\n",
       "      <td>0.000000</td>\n",
       "      <td>0.000000</td>\n",
       "      <td>0.000000</td>\n",
       "    </tr>\n",
       "    <tr>\n",
       "      <th>25%</th>\n",
       "      <td>0.000000</td>\n",
       "      <td>1.000000</td>\n",
       "      <td>20.125000</td>\n",
       "      <td>0.000000</td>\n",
       "      <td>0.000000</td>\n",
       "      <td>8.050000</td>\n",
       "    </tr>\n",
       "    <tr>\n",
       "      <th>50%</th>\n",
       "      <td>0.000000</td>\n",
       "      <td>2.000000</td>\n",
       "      <td>28.000000</td>\n",
       "      <td>0.000000</td>\n",
       "      <td>0.000000</td>\n",
       "      <td>15.741700</td>\n",
       "    </tr>\n",
       "    <tr>\n",
       "      <th>75%</th>\n",
       "      <td>1.000000</td>\n",
       "      <td>3.000000</td>\n",
       "      <td>38.000000</td>\n",
       "      <td>1.000000</td>\n",
       "      <td>1.000000</td>\n",
       "      <td>33.375000</td>\n",
       "    </tr>\n",
       "    <tr>\n",
       "      <th>max</th>\n",
       "      <td>1.000000</td>\n",
       "      <td>3.000000</td>\n",
       "      <td>80.000000</td>\n",
       "      <td>5.000000</td>\n",
       "      <td>6.000000</td>\n",
       "      <td>512.329200</td>\n",
       "    </tr>\n",
       "  </tbody>\n",
       "</table>\n",
       "</div>"
      ],
      "text/plain": [
       "         Survived  \\\n",
       "count  714.000000   \n",
       "mean     0.406162   \n",
       "std      0.491460   \n",
       "min      0.000000   \n",
       "25%      0.000000   \n",
       "50%      0.000000   \n",
       "75%      1.000000   \n",
       "max      1.000000   \n",
       "\n",
       "           Pclass  \\\n",
       "count  714.000000   \n",
       "mean     2.236695   \n",
       "std      0.838250   \n",
       "min      1.000000   \n",
       "25%      1.000000   \n",
       "50%      2.000000   \n",
       "75%      3.000000   \n",
       "max      3.000000   \n",
       "\n",
       "              Age  \\\n",
       "count  714.000000   \n",
       "mean    29.699118   \n",
       "std     14.526497   \n",
       "min      0.420000   \n",
       "25%     20.125000   \n",
       "50%     28.000000   \n",
       "75%     38.000000   \n",
       "max     80.000000   \n",
       "\n",
       "            SibSp  \\\n",
       "count  714.000000   \n",
       "mean     0.512605   \n",
       "std      0.929783   \n",
       "min      0.000000   \n",
       "25%      0.000000   \n",
       "50%      0.000000   \n",
       "75%      1.000000   \n",
       "max      5.000000   \n",
       "\n",
       "            Parch  \\\n",
       "count  714.000000   \n",
       "mean     0.431373   \n",
       "std      0.853289   \n",
       "min      0.000000   \n",
       "25%      0.000000   \n",
       "50%      0.000000   \n",
       "75%      1.000000   \n",
       "max      6.000000   \n",
       "\n",
       "             Fare  \n",
       "count  714.000000  \n",
       "mean    34.694514  \n",
       "std     52.918930  \n",
       "min      0.000000  \n",
       "25%      8.050000  \n",
       "50%     15.741700  \n",
       "75%     33.375000  \n",
       "max    512.329200  "
      ]
     },
     "execution_count": 128,
     "metadata": {},
     "output_type": "execute_result"
    }
   ],
   "source": [
    "# 保留数据分析时需要的信息\n",
    "chosen_data = data.loc[:,['Survived', 'Pclass', 'Sex', 'Age','SibSp','Parch','Fare', ]]\n",
    "\n",
    "# 缺省值处理\n",
    "clean_data = chosen_data.dropna()\n",
    "\n",
    "# 数据集信息\n",
    "clean_data.describe()"
   ]
  },
  {
   "cell_type": "markdown",
   "metadata": {},
   "source": [
    "通过数据清洗后，我们可以得到一些浅显的信息：1. 可以使用的信息有714条；2. 乘客的平均年龄为29.7岁。接下来我们就可以利用处理好的数据集来解答我们的一些问题。"
   ]
  },
  {
   "cell_type": "markdown",
   "metadata": {},
   "source": [
    "### 数据分析问题\n",
    "利用seaborn和matplotlib.pyplot进行数据可视化，提高我们的分析效率\n",
    "\n",
    "#### 不同的因素与生还率的相关性"
   ]
  },
  {
   "cell_type": "code",
   "execution_count": 129,
   "metadata": {},
   "outputs": [
    {
     "data": {
      "text/html": [
       "<div>\n",
       "<style scoped>\n",
       "    .dataframe tbody tr th:only-of-type {\n",
       "        vertical-align: middle;\n",
       "    }\n",
       "\n",
       "    .dataframe tbody tr th {\n",
       "        vertical-align: top;\n",
       "    }\n",
       "\n",
       "    .dataframe thead th {\n",
       "        text-align: right;\n",
       "    }\n",
       "</style>\n",
       "<table border=\"1\" class=\"dataframe\">\n",
       "  <thead>\n",
       "    <tr style=\"text-align: right;\">\n",
       "      <th></th>\n",
       "      <th>Survived</th>\n",
       "      <th>Pclass</th>\n",
       "      <th>Age</th>\n",
       "      <th>SibSp</th>\n",
       "      <th>Parch</th>\n",
       "      <th>Fare</th>\n",
       "    </tr>\n",
       "  </thead>\n",
       "  <tbody>\n",
       "    <tr>\n",
       "      <th>Survived</th>\n",
       "      <td>1.000000</td>\n",
       "      <td>-0.359653</td>\n",
       "      <td>-0.077221</td>\n",
       "      <td>-0.017358</td>\n",
       "      <td>0.093317</td>\n",
       "      <td>0.268189</td>\n",
       "    </tr>\n",
       "    <tr>\n",
       "      <th>Pclass</th>\n",
       "      <td>-0.359653</td>\n",
       "      <td>1.000000</td>\n",
       "      <td>-0.369226</td>\n",
       "      <td>0.067247</td>\n",
       "      <td>0.025683</td>\n",
       "      <td>-0.554182</td>\n",
       "    </tr>\n",
       "    <tr>\n",
       "      <th>Age</th>\n",
       "      <td>-0.077221</td>\n",
       "      <td>-0.369226</td>\n",
       "      <td>1.000000</td>\n",
       "      <td>-0.308247</td>\n",
       "      <td>-0.189119</td>\n",
       "      <td>0.096067</td>\n",
       "    </tr>\n",
       "    <tr>\n",
       "      <th>SibSp</th>\n",
       "      <td>-0.017358</td>\n",
       "      <td>0.067247</td>\n",
       "      <td>-0.308247</td>\n",
       "      <td>1.000000</td>\n",
       "      <td>0.383820</td>\n",
       "      <td>0.138329</td>\n",
       "    </tr>\n",
       "    <tr>\n",
       "      <th>Parch</th>\n",
       "      <td>0.093317</td>\n",
       "      <td>0.025683</td>\n",
       "      <td>-0.189119</td>\n",
       "      <td>0.383820</td>\n",
       "      <td>1.000000</td>\n",
       "      <td>0.205119</td>\n",
       "    </tr>\n",
       "    <tr>\n",
       "      <th>Fare</th>\n",
       "      <td>0.268189</td>\n",
       "      <td>-0.554182</td>\n",
       "      <td>0.096067</td>\n",
       "      <td>0.138329</td>\n",
       "      <td>0.205119</td>\n",
       "      <td>1.000000</td>\n",
       "    </tr>\n",
       "  </tbody>\n",
       "</table>\n",
       "</div>"
      ],
      "text/plain": [
       "          Survived  \\\n",
       "Survived  1.000000   \n",
       "Pclass   -0.359653   \n",
       "Age      -0.077221   \n",
       "SibSp    -0.017358   \n",
       "Parch     0.093317   \n",
       "Fare      0.268189   \n",
       "\n",
       "            Pclass  \\\n",
       "Survived -0.359653   \n",
       "Pclass    1.000000   \n",
       "Age      -0.369226   \n",
       "SibSp     0.067247   \n",
       "Parch     0.025683   \n",
       "Fare     -0.554182   \n",
       "\n",
       "               Age  \\\n",
       "Survived -0.077221   \n",
       "Pclass   -0.369226   \n",
       "Age       1.000000   \n",
       "SibSp    -0.308247   \n",
       "Parch    -0.189119   \n",
       "Fare      0.096067   \n",
       "\n",
       "             SibSp  \\\n",
       "Survived -0.017358   \n",
       "Pclass    0.067247   \n",
       "Age      -0.308247   \n",
       "SibSp     1.000000   \n",
       "Parch     0.383820   \n",
       "Fare      0.138329   \n",
       "\n",
       "             Parch  \\\n",
       "Survived  0.093317   \n",
       "Pclass    0.025683   \n",
       "Age      -0.189119   \n",
       "SibSp     0.383820   \n",
       "Parch     1.000000   \n",
       "Fare      0.205119   \n",
       "\n",
       "              Fare  \n",
       "Survived  0.268189  \n",
       "Pclass   -0.554182  \n",
       "Age       0.096067  \n",
       "SibSp     0.138329  \n",
       "Parch     0.205119  \n",
       "Fare      1.000000  "
      ]
     },
     "execution_count": 129,
     "metadata": {},
     "output_type": "execute_result"
    }
   ],
   "source": [
    "# 不同列数据间的相关性\n",
    "clean_data.corr()"
   ]
  },
  {
   "cell_type": "markdown",
   "metadata": {},
   "source": [
    "通过`Pandas`的`corr()`函数我们可以便捷的得到各因素之间的相关性，但是因为`Sex`数据的格式为字符串，所以未显示在表格中，让我们来单独分析**性别对生还率的影响**"
   ]
  },
  {
   "cell_type": "markdown",
   "metadata": {},
   "source": [
    "#### 性别对生还率的影响\n",
    "首先，我们来看看男女各自的人数\n"
   ]
  },
  {
   "cell_type": "code",
   "execution_count": 130,
   "metadata": {},
   "outputs": [
    {
     "data": {
      "text/plain": [
       "Text(0.5,0.98,'Number of male and female passengers')"
      ]
     },
     "execution_count": 130,
     "metadata": {},
     "output_type": "execute_result"
    },
    {
     "data": {
      "image/png": "[encoded data removed]",
      "text/plain": [
       "<Figure size 288x288 with 1 Axes>"
      ]
     },
     "metadata": {},
     "output_type": "display_data"
    }
   ],
   "source": [
    "# 男女人数直方图\n",
    "Number_Of_Sex = sns.factorplot(\"Sex\",data=clean_data ,kind='count') \n",
    "Number_Of_Sex.set_ylabels(\"Number\")\n",
    "Number_Of_Sex.set_xlabels(\"Sex of passengers\")\n",
    "Number_Of_Sex.fig.suptitle('Number of male and female passengers')"
   ]
  },
  {
   "cell_type": "markdown",
   "metadata": {},
   "source": [
    "其次，分析男性和女性生还人数在总人数中所占的比例"
   ]
  },
  {
   "cell_type": "code",
   "execution_count": 131,
   "metadata": {},
   "outputs": [
    {
     "data": {
      "text/plain": [
       "<seaborn.axisgrid.FacetGrid at 0x14f13cf8>"
      ]
     },
     "execution_count": 131,
     "metadata": {},
     "output_type": "execute_result"
    },
    {
     "data": {
      "image/png": "[encoded data removed]",
      "text/plain": [
       "<Figure size 288x288 with 1 Axes>"
      ]
     },
     "metadata": {},
     "output_type": "display_data"
    }
   ],
   "source": [
    "# 男女各自生还人数比例图\n",
    "Survived_Of_Sex = sns.factorplot(\"Sex\",\"Survived\",data=clean_data ,kind='bar') \n",
    "Survived_Of_Sex.set_ylabels(\"Survival Probability\")\n",
    "Survived_Of_Sex.set_xlabels(\"Sex of passengers\")"
   ]
  },
  {
   "cell_type": "markdown",
   "metadata": {},
   "source": [
    "**结论**：由以上的两幅图标我们可以看出，虽然乘客中男性所占的比例很高，但是女性生还的可能性更大。但是我们不应该认为性别是影响生还率的唯一因素。"
   ]
  },
  {
   "cell_type": "markdown",
   "metadata": {},
   "source": [
    "#### 阶层和年龄对生还率的影响\n",
    "这次分析我们可以利用前文中的`各因素相关性表格`绘制点图，以此来分析`Pclass`和`Age`对`Survived`的影响"
   ]
  },
  {
   "cell_type": "code",
   "execution_count": 132,
   "metadata": {},
   "outputs": [
    {
     "data": {
      "text/plain": [
       "Text(0,0.5,'Survival Rate')"
      ]
     },
     "execution_count": 132,
     "metadata": {},
     "output_type": "execute_result"
    },
    {
     "data": {
      "image/png": "[encoded data removed]",
      "text/plain": [
       "<Figure size 432x288 with 1 Axes>"
      ]
     },
     "metadata": {},
     "output_type": "display_data"
    }
   ],
   "source": [
    "# Pclass和Survived的相关性\n",
    "Correlation_of_Pclass_and_Survived = sns.pointplot(x='Pclass', y='Survived', data=clean_data);\n",
    "plt.ylabel('Survival Rate')\n"
   ]
  },
  {
   "cell_type": "markdown",
   "metadata": {},
   "source": [
    "根据上图，我们不难发现阶层越高，越容易生还。但是考虑到女性比男性生还率高，猜测会不会是*阶层中，女性的比例越高，从而影响了生还率?* 我们可以**女性在第一阶层的比例**来验证。 "
   ]
  },
  {
   "cell_type": "code",
   "execution_count": 133,
   "metadata": {},
   "outputs": [],
   "source": [
    "# 提取出只包含第一阶层相关数据的数据集\n",
    "group  =  clean_data [ clean_data [ 'Pclass' ] == 1  ]"
   ]
  },
  {
   "cell_type": "code",
   "execution_count": 134,
   "metadata": {},
   "outputs": [
    {
     "data": {
      "text/plain": [
       "Sex\n",
       "female    18.763797\n",
       "male      22.295806\n",
       "dtype: float64"
      ]
     },
     "execution_count": 134,
     "metadata": {},
     "output_type": "execute_result"
    }
   ],
   "source": [
    "# 第一阶层的男女比例\n",
    "group.groupby('Sex').size() * 100 / group1.shape[0]"
   ]
  },
  {
   "cell_type": "markdown",
   "metadata": {},
   "source": [
    "**结论1**：通过查看第一阶层中的男女比例发现，性别不会干扰阶层对生还率的影响。同时，阶层越高，生还率越高"
   ]
  },
  {
   "cell_type": "markdown",
   "metadata": {},
   "source": [
    "接下来，通过可视化生还组和死亡组的年龄分布分析年龄对生还率有何影响。"
   ]
  },
  {
   "cell_type": "code",
   "execution_count": 135,
   "metadata": {},
   "outputs": [],
   "source": [
    "# 提取生还组和死亡组的数据集\n",
    "survived=clean_data[clean_data['Survived']==1]\n",
    "dead=clean_data[clean_data['Survived']==0]"
   ]
  },
  {
   "cell_type": "code",
   "execution_count": 136,
   "metadata": {},
   "outputs": [
    {
     "data": {
      "text/plain": [
       "Text(0,0.5,'Frequency')"
      ]
     },
     "execution_count": 136,
     "metadata": {},
     "output_type": "execute_result"
    },
    {
     "data": {
      "image/png": "[encoded data removed]",
      "text/plain": [
       "<Figure size 432x288 with 1 Axes>"
      ]
     },
     "metadata": {},
     "output_type": "display_data"
    }
   ],
   "source": [
    "plt.hist(survived['Age'])\n",
    "plt.xlabel('Age of the survived passengers')\n",
    "plt.ylabel('Frequency')\n",
    "\n"
   ]
  },
  {
   "cell_type": "code",
   "execution_count": 137,
   "metadata": {},
   "outputs": [
    {
     "data": {
      "text/plain": [
       "Text(0,0.5,'Frequency')"
      ]
     },
     "execution_count": 137,
     "metadata": {},
     "output_type": "execute_result"
    },
    {
     "data": {
      "image/png": "[encoded data removed]",
      "text/plain": [
       "<Figure size 432x288 with 1 Axes>"
      ]
     },
     "metadata": {},
     "output_type": "display_data"
    }
   ],
   "source": [
    "plt.hist(dead['Age'])\n",
    "plt.xlabel('Age of the dead passengers')\n",
    "plt.ylabel('Frequency')"
   ]
  },
  {
   "cell_type": "markdown",
   "metadata": {},
   "source": [
    "**结论**：我们看到年龄小于15岁的孩子更有可能得救。我们可以通过计算Age和Survived的相关系数来验证我们的结论"
   ]
  },
  {
   "cell_type": "code",
   "execution_count": 138,
   "metadata": {},
   "outputs": [
    {
     "data": {
      "text/html": [
       "<div>\n",
       "<style scoped>\n",
       "    .dataframe tbody tr th:only-of-type {\n",
       "        vertical-align: middle;\n",
       "    }\n",
       "\n",
       "    .dataframe tbody tr th {\n",
       "        vertical-align: top;\n",
       "    }\n",
       "\n",
       "    .dataframe thead th {\n",
       "        text-align: right;\n",
       "    }\n",
       "</style>\n",
       "<table border=\"1\" class=\"dataframe\">\n",
       "  <thead>\n",
       "    <tr style=\"text-align: right;\">\n",
       "      <th></th>\n",
       "      <th>Survived</th>\n",
       "      <th>Age</th>\n",
       "    </tr>\n",
       "  </thead>\n",
       "  <tbody>\n",
       "    <tr>\n",
       "      <th>Survived</th>\n",
       "      <td>1.000000</td>\n",
       "      <td>-0.077221</td>\n",
       "    </tr>\n",
       "    <tr>\n",
       "      <th>Age</th>\n",
       "      <td>-0.077221</td>\n",
       "      <td>1.000000</td>\n",
       "    </tr>\n",
       "  </tbody>\n",
       "</table>\n",
       "</div>"
      ],
      "text/plain": [
       "          Survived  \\\n",
       "Survived  1.000000   \n",
       "Age      -0.077221   \n",
       "\n",
       "               Age  \n",
       "Survived -0.077221  \n",
       "Age       1.000000  "
      ]
     },
     "execution_count": 138,
     "metadata": {},
     "output_type": "execute_result"
    }
   ],
   "source": [
    "age_sur = clean_data.loc[:,['Survived', 'Age']]\n",
    "age_sur.corr()"
   ]
  },
  {
   "cell_type": "markdown",
   "metadata": {},
   "source": [
    "“年龄”的相关系数为-0.07，这意味着它与“生存”是相反的。刚好验证了我们的结论"
   ]
  },
  {
   "cell_type": "markdown",
   "metadata": {},
   "source": [
    "### 总结\n",
    "通过分析年龄、性别以及阶层对生还率的影响发现：1.女性的生还率高；2.阶层越高，生还率也越高（未收到女性在各阶层的比例影响）；3.如果你的年龄低于15岁，那么你更有可能生还\n",
    "\n",
    "其实我们还可以提出更多的猜想，比如：水手的生还率是否更高呢？但是发现数据集中并没有相关的数据。其次，根据维基百科，大约有1317名乘客，但数据集只有891名乘客，这严重限制了我们得出明确结论的能力。这就体现了数据局限性对数据分析准确率的重大影响。"
   ]
  },
  {
   "cell_type": "markdown",
   "metadata": {},
   "source": [
    "### 参考\n",
    "https://discussions.udacity.com\n",
    "\n",
    "https://stackoverflow.com\n",
    "\n",
    "https://matplotlib.org\n",
    "\n",
    "https://seaborn.pydata.org/index.html\n",
    "\n",
    "https://github.com\n",
    "\n"
   ]
  },
  {
   "cell_type": "code",
   "execution_count": null,
   "metadata": {},
   "outputs": [],
   "source": []
  },
  {
   "cell_type": "code",
   "execution_count": null,
   "metadata": {},
   "outputs": [],
   "source": []
  },
  {
   "cell_type": "code",
   "execution_count": null,
   "metadata": {},
   "outputs": [],
   "source": []
  }
 ],
 "metadata": {
  "kernelspec": {
   "display_name": "Python 2",
   "language": "python",
   "name": "python2"
  },
  "language_info": {
   "codemirror_mode": {
    "name": "ipython",
    "version": 2
   },
   "file_extension": ".py",
   "mimetype": "text/x-python",
   "name": "python",
   "nbconvert_exporter": "python",
   "pygments_lexer": "ipython2",
   "version": "2.7.14"
  }
 },
 "nbformat": 4,
 "nbformat_minor": 2
}
